{
  "cells": [
    {
      "cell_type": "code",
      "source": [
        "%%capture\n",
        "!unzip data.zip"
      ],
      "metadata": {
        "id": "rLUwYMJcfsGk"
      },
      "execution_count": 21,
      "outputs": []
    },
    {
      "cell_type": "code",
      "source": [
        "!pip install wandb\n",
        "!wandb login"
      ],
      "metadata": {
        "id": "3BKyfLyOfhnf",
        "colab": {
          "base_uri": "https://localhost:8080/"
        },
        "outputId": "4d175534-817a-4d45-9668-cce865edcd47"
      },
      "execution_count": 22,
      "outputs": [
        {
          "output_type": "stream",
          "name": "stdout",
          "text": [
            "Requirement already satisfied: wandb in /usr/local/lib/python3.10/dist-packages (0.16.6)\n",
            "Requirement already satisfied: Click!=8.0.0,>=7.1 in /usr/local/lib/python3.10/dist-packages (from wandb) (8.1.7)\n",
            "Requirement already satisfied: GitPython!=3.1.29,>=1.0.0 in /usr/local/lib/python3.10/dist-packages (from wandb) (3.1.43)\n",
            "Requirement already satisfied: requests<3,>=2.0.0 in /usr/local/lib/python3.10/dist-packages (from wandb) (2.31.0)\n",
            "Requirement already satisfied: psutil>=5.0.0 in /usr/local/lib/python3.10/dist-packages (from wandb) (5.9.5)\n",
            "Requirement already satisfied: sentry-sdk>=1.0.0 in /usr/local/lib/python3.10/dist-packages (from wandb) (2.0.0)\n",
            "Requirement already satisfied: docker-pycreds>=0.4.0 in /usr/local/lib/python3.10/dist-packages (from wandb) (0.4.0)\n",
            "Requirement already satisfied: PyYAML in /usr/local/lib/python3.10/dist-packages (from wandb) (6.0.1)\n",
            "Requirement already satisfied: setproctitle in /usr/local/lib/python3.10/dist-packages (from wandb) (1.3.3)\n",
            "Requirement already satisfied: setuptools in /usr/local/lib/python3.10/dist-packages (from wandb) (67.7.2)\n",
            "Requirement already satisfied: appdirs>=1.4.3 in /usr/local/lib/python3.10/dist-packages (from wandb) (1.4.4)\n",
            "Requirement already satisfied: protobuf!=4.21.0,<5,>=3.19.0 in /usr/local/lib/python3.10/dist-packages (from wandb) (3.20.3)\n",
            "Requirement already satisfied: six>=1.4.0 in /usr/local/lib/python3.10/dist-packages (from docker-pycreds>=0.4.0->wandb) (1.16.0)\n",
            "Requirement already satisfied: gitdb<5,>=4.0.1 in /usr/local/lib/python3.10/dist-packages (from GitPython!=3.1.29,>=1.0.0->wandb) (4.0.11)\n",
            "Requirement already satisfied: charset-normalizer<4,>=2 in /usr/local/lib/python3.10/dist-packages (from requests<3,>=2.0.0->wandb) (3.3.2)\n",
            "Requirement already satisfied: idna<4,>=2.5 in /usr/local/lib/python3.10/dist-packages (from requests<3,>=2.0.0->wandb) (3.7)\n",
            "Requirement already satisfied: urllib3<3,>=1.21.1 in /usr/local/lib/python3.10/dist-packages (from requests<3,>=2.0.0->wandb) (2.0.7)\n",
            "Requirement already satisfied: certifi>=2017.4.17 in /usr/local/lib/python3.10/dist-packages (from requests<3,>=2.0.0->wandb) (2024.2.2)\n",
            "Requirement already satisfied: smmap<6,>=3.0.1 in /usr/local/lib/python3.10/dist-packages (from gitdb<5,>=4.0.1->GitPython!=3.1.29,>=1.0.0->wandb) (5.0.1)\n",
            "\u001b[34m\u001b[1mwandb\u001b[0m: Currently logged in as: \u001b[33mliuxia62\u001b[0m (\u001b[33mjennisleepin\u001b[0m). Use \u001b[1m`wandb login --relogin`\u001b[0m to force relogin\n"
          ]
        }
      ]
    },
    {
      "cell_type": "code",
      "execution_count": 23,
      "metadata": {
        "colab": {
          "base_uri": "https://localhost:8080/"
        },
        "id": "_aU3-yi7fUfq",
        "outputId": "21790e35-68f2-4062-ce67-340ee3ce7a66"
      },
      "outputs": [
        {
          "output_type": "stream",
          "name": "stdout",
          "text": [
            "env: WANDB_LOG_MODEL=true\n"
          ]
        }
      ],
      "source": [
        "%env WANDB_LOG_MODEL=true\n",
        "import torch\n",
        "import torch.nn as nn\n",
        "import torch.optim as optim\n",
        "from torchvision import datasets, transforms, models\n",
        "from torch.utils.data import Dataset, DataLoader, random_split\n",
        "import matplotlib.pyplot as plt\n",
        "from tqdm import tqdm\n",
        "import wandb\n",
        "import math"
      ]
    },
    {
      "cell_type": "code",
      "execution_count": 24,
      "metadata": {
        "id": "tzslHSIxfUfu"
      },
      "outputs": [],
      "source": [
        "device = torch.device('cuda' if torch.cuda.is_available() else 'cpu')"
      ]
    },
    {
      "cell_type": "code",
      "execution_count": 25,
      "metadata": {
        "id": "XMWzOLYIfUfu"
      },
      "outputs": [],
      "source": [
        "# Define transformations\n",
        "transform = transforms.Compose([\n",
        "    transforms.Resize((224, 224)),\n",
        "    transforms.ToTensor(),\n",
        "    transforms.Normalize(mean=[0.485, 0.456, 0.406], std=[0.229, 0.224, 0.225])\n",
        "])"
      ]
    },
    {
      "cell_type": "code",
      "execution_count": 26,
      "metadata": {
        "id": "hhkjJ53-fUfv"
      },
      "outputs": [],
      "source": [
        "train_dataset = datasets.ImageFolder('data/train', transform=transform)\n",
        "val_dataset = datasets.ImageFolder('data/validation', transform=transform)\n",
        "test_dataset = datasets.ImageFolder('data/test', transform=transform)"
      ]
    },
    {
      "cell_type": "code",
      "execution_count": 27,
      "metadata": {
        "id": "0QbfQ4UBfUfv"
      },
      "outputs": [],
      "source": [
        "class CNN(nn.Module):\n",
        "    def __init__(self):\n",
        "        super(CNN, self).__init__()\n",
        "        self.conv1 = nn.Conv2d(3, 32, kernel_size=3, padding=1)\n",
        "        self.conv2 = nn.Conv2d(32, 64, kernel_size=3, padding=1)\n",
        "        self.conv3 = nn.Conv2d(64, 128, kernel_size=3, padding=1)\n",
        "        self.pool = nn.MaxPool2d(2, 2)\n",
        "        self.dropout = nn.Dropout(0.5)\n",
        "        self.fc1 = nn.Linear(128 * 28 * 28, 512)  # Adjust the size based on your pooling and image dimensions\n",
        "        self.fc2 = nn.Linear(512, len(train_dataset.classes))\n",
        "\n",
        "    def forward(self, x):\n",
        "        x = self.pool(torch.relu(self.conv1(x)))\n",
        "        x = self.pool(torch.relu(self.conv2(x)))\n",
        "        x = self.pool(torch.relu(self.conv3(x)))\n",
        "        x = x.view(-1, 128 * 28 * 28)  # Flatten the output for the dense layer\n",
        "        x = torch.relu(self.fc1(self.dropout(x)))\n",
        "        x = self.fc2(x)\n",
        "        return x\n"
      ]
    },
    {
      "cell_type": "code",
      "execution_count": 28,
      "metadata": {
        "id": "Ix4ydPpTfUfv"
      },
      "outputs": [],
      "source": [
        "class VGG16(nn.Module):\n",
        "    def __init__(self, num_classes=len(train_dataset.classes)):  # Adjust num_classes based on your dataset\n",
        "        super(VGG16, self).__init__()\n",
        "\n",
        "        self.features = nn.Sequential(\n",
        "            nn.Conv2d(3, 64, kernel_size=3, padding=1),\n",
        "            nn.ReLU(inplace=True),\n",
        "            nn.Conv2d(64, 64, kernel_size=3, padding=1),\n",
        "            nn.ReLU(inplace=True),\n",
        "            nn.MaxPool2d(kernel_size=2, stride=2),\n",
        "\n",
        "            nn.Conv2d(64, 128, kernel_size=3, padding=1),\n",
        "            nn.ReLU(inplace=True),\n",
        "            nn.Conv2d(128, 128, kernel_size=3, padding=1),\n",
        "            nn.ReLU(inplace=True),\n",
        "            nn.MaxPool2d(kernel_size=2, stride=2),\n",
        "\n",
        "            nn.Conv2d(128, 256, kernel_size=3, padding=1),\n",
        "            nn.ReLU(inplace=True),\n",
        "            nn.Conv2d(256, 256, kernel_size=3, padding=1),\n",
        "            nn.ReLU(inplace=True),\n",
        "            nn.Conv2d(256, 256, kernel_size=3, padding=1),\n",
        "            nn.ReLU(inplace=True),\n",
        "            nn.MaxPool2d(kernel_size=2, stride=2),\n",
        "\n",
        "            nn.Conv2d(256, 512, kernel_size=3, padding=1),\n",
        "            nn.ReLU(inplace=True),\n",
        "            nn.Conv2d(512, 512, kernel_size=3, padding=1),\n",
        "            nn.ReLU(inplace=True),\n",
        "            nn.Conv2d(512, 512, kernel_size=3, padding=1),\n",
        "            nn.ReLU(inplace=True),\n",
        "            nn.MaxPool2d(kernel_size=2, stride=2),\n",
        "\n",
        "            nn.Conv2d(512, 512, kernel_size=3, padding=1),\n",
        "            nn.ReLU(inplace=True),\n",
        "            nn.Conv2d(512, 512, kernel_size=3, padding=1),\n",
        "            nn.ReLU(inplace=True),\n",
        "            nn.Conv2d(512, 512, kernel_size=3, padding=1),\n",
        "            nn.ReLU(inplace=True),\n",
        "            nn.MaxPool2d(kernel_size=2, stride=2)\n",
        "        )\n",
        "\n",
        "        # Fully connected layers\n",
        "        self.classifier = nn.Sequential(\n",
        "            nn.Linear(512 * 7 * 7, 4096),\n",
        "            nn.ReLU(inplace=True),\n",
        "            nn.Dropout(0.5),\n",
        "            nn.Linear(4096, 4096),\n",
        "            nn.ReLU(inplace=True),\n",
        "            nn.Dropout(0.5),\n",
        "            nn.Linear(4096, num_classes)\n",
        "        )\n",
        "\n",
        "    def forward(self, x):\n",
        "        x = self.features(x)\n",
        "        x = x.view(-1, 512 * 7 * 7)  # Flatten before passing to the classifier\n",
        "        x = self.classifier(x)\n",
        "        return x\n"
      ]
    },
    {
      "cell_type": "code",
      "execution_count": 19,
      "metadata": {
        "colab": {
          "base_uri": "https://localhost:8080/",
          "height": 1000,
          "referenced_widgets": [
            "68c533dd5bda4711bcb6b4e57f7ca3fb",
            "388d1de6fcc942c4a3d70d8fb6bef973",
            "43e95174b75b41619a4bb81d9b8519ab",
            "60a82e058a0f4406808dc30ce0fa5e3e",
            "8fd22216b3844eb79d786222f8c788e5",
            "4f1171e886994c3caf1d2b6dfb3b6cf2",
            "ec18735548f74c1bacb5d5aaed4b2ac5",
            "d40a74e2d66049f7860eb5ab30dc5e03"
          ]
        },
        "id": "GJJNLoD8fUfv",
        "outputId": "18163d45-db87-4e75-e0f8-b998d00441c4"
      },
      "outputs": [
        {
          "metadata": {
            "tags": null
          },
          "name": "stderr",
          "output_type": "stream",
          "text": [
            "\u001b[34m\u001b[1mwandb\u001b[0m: Currently logged in as: \u001b[33mliuxia62\u001b[0m (\u001b[33mjennisleepin\u001b[0m). Use \u001b[1m`wandb login --relogin`\u001b[0m to force relogin\n"
          ]
        },
        {
          "data": {
            "text/html": [
              "Tracking run with wandb version 0.16.6"
            ],
            "text/plain": [
              "<IPython.core.display.HTML object>"
            ]
          },
          "metadata": {},
          "output_type": "display_data"
        },
        {
          "data": {
            "text/html": [
              "Run data is saved locally in <code>/content/wandb/run-20240426_001232-mbfawr0r</code>"
            ],
            "text/plain": [
              "<IPython.core.display.HTML object>"
            ]
          },
          "metadata": {},
          "output_type": "display_data"
        },
        {
          "data": {
            "text/html": [
              "Syncing run <strong><a href='https://wandb.ai/jennisleepin/room-clasification/runs/mbfawr0r' target=\"_blank\">fast-voice-21</a></strong> to <a href='https://wandb.ai/jennisleepin/room-clasification' target=\"_blank\">Weights & Biases</a> (<a href='https://wandb.me/run' target=\"_blank\">docs</a>)<br/>"
            ],
            "text/plain": [
              "<IPython.core.display.HTML object>"
            ]
          },
          "metadata": {},
          "output_type": "display_data"
        },
        {
          "data": {
            "text/html": [
              " View project at <a href='https://wandb.ai/jennisleepin/room-clasification' target=\"_blank\">https://wandb.ai/jennisleepin/room-clasification</a>"
            ],
            "text/plain": [
              "<IPython.core.display.HTML object>"
            ]
          },
          "metadata": {},
          "output_type": "display_data"
        },
        {
          "data": {
            "text/html": [
              " View run at <a href='https://wandb.ai/jennisleepin/room-clasification/runs/mbfawr0r' target=\"_blank\">https://wandb.ai/jennisleepin/room-clasification/runs/mbfawr0r</a>"
            ],
            "text/plain": [
              "<IPython.core.display.HTML object>"
            ]
          },
          "metadata": {},
          "output_type": "display_data"
        },
        {
          "metadata": {
            "tags": null
          },
          "name": "stderr",
          "output_type": "stream",
          "text": [
            "Epoch 1: 100%|██████████| 17/17 [00:56<00:00,  3.29s/batch, accuracy=28.9, loss=1.62]\n"
          ]
        },
        {
          "metadata": {
            "tags": null
          },
          "name": "stdout",
          "output_type": "stream",
          "text": [
            "Epoch [1/40], Loss: 1.9650, Accuracy: 25.12%\n",
            "Validation Loss: 1.5368, Validation Accuracy: 26.42%\n"
          ]
        },
        {
          "output_type": "stream",
          "name": "stderr",
          "text": [
            "Epoch 2: 100%|██████████| 17/17 [00:48<00:00,  2.83s/batch, accuracy=30, loss=1.62]\n"
          ]
        },
        {
          "output_type": "stream",
          "name": "stdout",
          "text": [
            "Epoch [2/40], Loss: 1.6235, Accuracy: 26.75%\n",
            "Validation Loss: 1.5302, Validation Accuracy: 27.55%\n"
          ]
        },
        {
          "output_type": "stream",
          "name": "stderr",
          "text": [
            "Epoch 3: 100%|██████████| 17/17 [00:49<00:00,  2.92s/batch, accuracy=22.2, loss=1.66]\n"
          ]
        },
        {
          "output_type": "stream",
          "name": "stdout",
          "text": [
            "Epoch [3/40], Loss: 1.6143, Accuracy: 25.96%\n",
            "Validation Loss: 1.5184, Validation Accuracy: 26.42%\n"
          ]
        },
        {
          "output_type": "stream",
          "name": "stderr",
          "text": [
            "Epoch 4: 100%|██████████| 17/17 [00:48<00:00,  2.86s/batch, accuracy=22.2, loss=1.61]\n"
          ]
        },
        {
          "output_type": "stream",
          "name": "stdout",
          "text": [
            "Epoch [4/40], Loss: 1.6059, Accuracy: 27.13%\n",
            "Validation Loss: 1.5203, Validation Accuracy: 24.91%\n"
          ]
        },
        {
          "output_type": "stream",
          "name": "stderr",
          "text": [
            "Epoch 5: 100%|██████████| 17/17 [00:48<00:00,  2.86s/batch, accuracy=26.7, loss=1.66]\n"
          ]
        },
        {
          "output_type": "stream",
          "name": "stdout",
          "text": [
            "Epoch [5/40], Loss: 1.6165, Accuracy: 24.84%\n",
            "Validation Loss: 1.5662, Validation Accuracy: 27.55%\n"
          ]
        },
        {
          "output_type": "stream",
          "name": "stderr",
          "text": [
            "Epoch 6: 100%|██████████| 17/17 [00:49<00:00,  2.92s/batch, accuracy=22.2, loss=1.54]\n"
          ]
        },
        {
          "output_type": "stream",
          "name": "stdout",
          "text": [
            "Epoch [6/40], Loss: 1.6196, Accuracy: 26.43%\n",
            "Validation Loss: 1.5360, Validation Accuracy: 27.55%\n"
          ]
        },
        {
          "output_type": "stream",
          "name": "stderr",
          "text": [
            "Epoch 7: 100%|██████████| 17/17 [00:48<00:00,  2.83s/batch, accuracy=24.4, loss=1.59]\n"
          ]
        },
        {
          "output_type": "stream",
          "name": "stdout",
          "text": [
            "Epoch [7/40], Loss: 1.6075, Accuracy: 25.40%\n",
            "Validation Loss: 1.5317, Validation Accuracy: 24.91%\n"
          ]
        },
        {
          "output_type": "stream",
          "name": "stderr",
          "text": [
            "Epoch 8: 100%|██████████| 17/17 [00:48<00:00,  2.84s/batch, accuracy=27.8, loss=1.62]\n"
          ]
        },
        {
          "output_type": "stream",
          "name": "stdout",
          "text": [
            "Epoch [8/40], Loss: 1.6370, Accuracy: 26.33%\n",
            "Validation Loss: 1.5537, Validation Accuracy: 24.91%\n"
          ]
        },
        {
          "output_type": "stream",
          "name": "stderr",
          "text": [
            "Epoch 9: 100%|██████████| 17/17 [00:48<00:00,  2.88s/batch, accuracy=17.8, loss=1.69]\n"
          ]
        },
        {
          "output_type": "stream",
          "name": "stdout",
          "text": [
            "Epoch [9/40], Loss: 1.6351, Accuracy: 25.07%\n",
            "Validation Loss: 1.5172, Validation Accuracy: 27.55%\n"
          ]
        },
        {
          "output_type": "stream",
          "name": "stderr",
          "text": [
            "Epoch 10: 100%|██████████| 17/17 [00:49<00:00,  2.92s/batch, accuracy=31.1, loss=1.6]\n"
          ]
        },
        {
          "output_type": "stream",
          "name": "stdout",
          "text": [
            "Epoch [10/40], Loss: 1.6336, Accuracy: 26.71%\n",
            "Validation Loss: 1.5874, Validation Accuracy: 27.55%\n"
          ]
        },
        {
          "output_type": "stream",
          "name": "stderr",
          "text": [
            "Epoch 11: 100%|██████████| 17/17 [00:47<00:00,  2.81s/batch, accuracy=33.3, loss=1.55]\n"
          ]
        },
        {
          "output_type": "stream",
          "name": "stdout",
          "text": [
            "Epoch [11/40], Loss: 1.6121, Accuracy: 26.24%\n",
            "Validation Loss: 1.4873, Validation Accuracy: 27.55%\n"
          ]
        },
        {
          "output_type": "stream",
          "name": "stderr",
          "text": [
            "Epoch 12: 100%|██████████| 17/17 [00:48<00:00,  2.82s/batch, accuracy=26.7, loss=1.64]\n"
          ]
        },
        {
          "output_type": "stream",
          "name": "stdout",
          "text": [
            "Epoch [12/40], Loss: 1.6099, Accuracy: 26.19%\n",
            "Validation Loss: 1.5162, Validation Accuracy: 27.55%\n"
          ]
        },
        {
          "output_type": "stream",
          "name": "stderr",
          "text": [
            "Epoch 13: 100%|██████████| 17/17 [00:48<00:00,  2.86s/batch, accuracy=23.3, loss=1.65]\n"
          ]
        },
        {
          "output_type": "stream",
          "name": "stdout",
          "text": [
            "Epoch [13/40], Loss: 1.6138, Accuracy: 26.99%\n",
            "Validation Loss: 1.5147, Validation Accuracy: 27.55%\n"
          ]
        },
        {
          "output_type": "stream",
          "name": "stderr",
          "text": [
            "Epoch 14: 100%|██████████| 17/17 [00:49<00:00,  2.89s/batch, accuracy=26.7, loss=1.67]\n"
          ]
        },
        {
          "output_type": "stream",
          "name": "stdout",
          "text": [
            "Epoch [14/40], Loss: 1.6079, Accuracy: 27.22%\n",
            "Validation Loss: 1.5300, Validation Accuracy: 27.55%\n"
          ]
        },
        {
          "output_type": "stream",
          "name": "stderr",
          "text": [
            "Epoch 15: 100%|██████████| 17/17 [00:47<00:00,  2.81s/batch, accuracy=32.2, loss=1.63]\n"
          ]
        },
        {
          "output_type": "stream",
          "name": "stdout",
          "text": [
            "Epoch [15/40], Loss: 1.6050, Accuracy: 26.99%\n",
            "Validation Loss: 1.5037, Validation Accuracy: 27.55%\n"
          ]
        },
        {
          "output_type": "stream",
          "name": "stderr",
          "text": [
            "Epoch 16: 100%|██████████| 17/17 [00:49<00:00,  2.90s/batch, accuracy=27.8, loss=1.57]\n"
          ]
        },
        {
          "output_type": "stream",
          "name": "stdout",
          "text": [
            "Epoch [16/40], Loss: 1.6050, Accuracy: 27.13%\n",
            "Validation Loss: 1.5207, Validation Accuracy: 27.55%\n"
          ]
        },
        {
          "output_type": "stream",
          "name": "stderr",
          "text": [
            "Epoch 17: 100%|██████████| 17/17 [00:47<00:00,  2.82s/batch, accuracy=27.8, loss=1.58]\n"
          ]
        },
        {
          "output_type": "stream",
          "name": "stdout",
          "text": [
            "Epoch [17/40], Loss: 1.6073, Accuracy: 26.19%\n",
            "Validation Loss: 1.5224, Validation Accuracy: 27.55%\n"
          ]
        },
        {
          "output_type": "stream",
          "name": "stderr",
          "text": [
            "Epoch 18: 100%|██████████| 17/17 [00:47<00:00,  2.80s/batch, accuracy=31.1, loss=1.62]\n"
          ]
        },
        {
          "output_type": "stream",
          "name": "stdout",
          "text": [
            "Epoch [18/40], Loss: 1.6075, Accuracy: 27.92%\n",
            "Validation Loss: 1.4992, Validation Accuracy: 27.55%\n"
          ]
        },
        {
          "output_type": "stream",
          "name": "stderr",
          "text": [
            "Epoch 19: 100%|██████████| 17/17 [00:48<00:00,  2.85s/batch, accuracy=17.8, loss=1.66]\n"
          ]
        },
        {
          "output_type": "stream",
          "name": "stdout",
          "text": [
            "Epoch [19/40], Loss: 1.6070, Accuracy: 25.96%\n",
            "Validation Loss: 1.5293, Validation Accuracy: 27.55%\n"
          ]
        },
        {
          "output_type": "stream",
          "name": "stderr",
          "text": [
            "Epoch 20: 100%|██████████| 17/17 [00:48<00:00,  2.84s/batch, accuracy=23.3, loss=1.64]\n"
          ]
        },
        {
          "output_type": "stream",
          "name": "stdout",
          "text": [
            "Epoch [20/40], Loss: 1.6059, Accuracy: 27.22%\n",
            "Validation Loss: 1.5220, Validation Accuracy: 27.55%\n"
          ]
        },
        {
          "output_type": "stream",
          "name": "stderr",
          "text": [
            "Epoch 21: 100%|██████████| 17/17 [00:47<00:00,  2.82s/batch, accuracy=26.7, loss=1.63]\n"
          ]
        },
        {
          "output_type": "stream",
          "name": "stdout",
          "text": [
            "Epoch [21/40], Loss: 1.6061, Accuracy: 26.61%\n",
            "Validation Loss: 1.5240, Validation Accuracy: 27.55%\n"
          ]
        },
        {
          "output_type": "stream",
          "name": "stderr",
          "text": [
            "Epoch 22: 100%|██████████| 17/17 [00:48<00:00,  2.83s/batch, accuracy=27.8, loss=1.53]\n"
          ]
        },
        {
          "output_type": "stream",
          "name": "stdout",
          "text": [
            "Epoch [22/40], Loss: 1.6031, Accuracy: 27.88%\n",
            "Validation Loss: 1.5131, Validation Accuracy: 27.55%\n"
          ]
        },
        {
          "output_type": "stream",
          "name": "stderr",
          "text": [
            "Epoch 23: 100%|██████████| 17/17 [00:48<00:00,  2.88s/batch, accuracy=21.1, loss=1.59]\n"
          ]
        },
        {
          "output_type": "stream",
          "name": "stdout",
          "text": [
            "Epoch [23/40], Loss: 1.6044, Accuracy: 26.52%\n",
            "Validation Loss: 1.5225, Validation Accuracy: 27.55%\n"
          ]
        },
        {
          "output_type": "stream",
          "name": "stderr",
          "text": [
            "Epoch 24: 100%|██████████| 17/17 [00:47<00:00,  2.80s/batch, accuracy=24.4, loss=1.59]\n"
          ]
        },
        {
          "output_type": "stream",
          "name": "stdout",
          "text": [
            "Epoch [24/40], Loss: 1.6049, Accuracy: 25.30%\n",
            "Validation Loss: 1.5135, Validation Accuracy: 27.55%\n"
          ]
        },
        {
          "output_type": "stream",
          "name": "stderr",
          "text": [
            "Epoch 25: 100%|██████████| 17/17 [00:47<00:00,  2.80s/batch, accuracy=25.6, loss=1.5]\n"
          ]
        },
        {
          "output_type": "stream",
          "name": "stdout",
          "text": [
            "Epoch [25/40], Loss: 1.6048, Accuracy: 28.86%\n",
            "Validation Loss: 1.5176, Validation Accuracy: 27.55%\n"
          ]
        },
        {
          "output_type": "stream",
          "name": "stderr",
          "text": [
            "Epoch 26: 100%|██████████| 17/17 [00:48<00:00,  2.84s/batch, accuracy=21.1, loss=1.59]\n"
          ]
        },
        {
          "output_type": "stream",
          "name": "stdout",
          "text": [
            "Epoch [26/40], Loss: 1.6046, Accuracy: 27.36%\n",
            "Validation Loss: 1.5187, Validation Accuracy: 27.55%\n"
          ]
        },
        {
          "output_type": "stream",
          "name": "stderr",
          "text": [
            "Epoch 27: 100%|██████████| 17/17 [00:48<00:00,  2.84s/batch, accuracy=23.3, loss=1.64]\n"
          ]
        },
        {
          "output_type": "stream",
          "name": "stdout",
          "text": [
            "Epoch [27/40], Loss: 1.6046, Accuracy: 25.44%\n",
            "Validation Loss: 1.5068, Validation Accuracy: 26.42%\n"
          ]
        },
        {
          "output_type": "stream",
          "name": "stderr",
          "text": [
            "Epoch 28: 100%|██████████| 17/17 [00:47<00:00,  2.80s/batch, accuracy=30, loss=1.47]\n"
          ]
        },
        {
          "output_type": "stream",
          "name": "stdout",
          "text": [
            "Epoch [28/40], Loss: 1.6030, Accuracy: 27.08%\n",
            "Validation Loss: 1.5190, Validation Accuracy: 27.55%\n"
          ]
        },
        {
          "output_type": "stream",
          "name": "stderr",
          "text": [
            "Epoch 29: 100%|██████████| 17/17 [00:47<00:00,  2.80s/batch, accuracy=35.6, loss=1.49]\n"
          ]
        },
        {
          "output_type": "stream",
          "name": "stdout",
          "text": [
            "Epoch [29/40], Loss: 1.6046, Accuracy: 27.08%\n",
            "Validation Loss: 1.5175, Validation Accuracy: 27.55%\n"
          ]
        },
        {
          "output_type": "stream",
          "name": "stderr",
          "text": [
            "Epoch 30: 100%|██████████| 17/17 [00:48<00:00,  2.88s/batch, accuracy=24.4, loss=1.57]\n"
          ]
        },
        {
          "output_type": "stream",
          "name": "stdout",
          "text": [
            "Epoch [30/40], Loss: 1.6064, Accuracy: 25.87%\n",
            "Validation Loss: 1.5133, Validation Accuracy: 27.55%\n"
          ]
        },
        {
          "output_type": "stream",
          "name": "stderr",
          "text": [
            "Epoch 31: 100%|██████████| 17/17 [00:48<00:00,  2.83s/batch, accuracy=27.8, loss=1.57]\n"
          ]
        },
        {
          "output_type": "stream",
          "name": "stdout",
          "text": [
            "Epoch [31/40], Loss: 1.6038, Accuracy: 25.77%\n",
            "Validation Loss: 1.5230, Validation Accuracy: 27.55%\n"
          ]
        },
        {
          "output_type": "stream",
          "name": "stderr",
          "text": [
            "Epoch 32: 100%|██████████| 17/17 [00:47<00:00,  2.81s/batch, accuracy=26.7, loss=1.72]\n"
          ]
        },
        {
          "output_type": "stream",
          "name": "stdout",
          "text": [
            "Epoch [32/40], Loss: 1.6072, Accuracy: 26.80%\n",
            "Validation Loss: 1.5158, Validation Accuracy: 27.55%\n"
          ]
        },
        {
          "output_type": "stream",
          "name": "stderr",
          "text": [
            "Epoch 33: 100%|██████████| 17/17 [00:47<00:00,  2.81s/batch, accuracy=31.1, loss=1.55]\n"
          ]
        },
        {
          "output_type": "stream",
          "name": "stdout",
          "text": [
            "Epoch [33/40], Loss: 1.6046, Accuracy: 26.80%\n",
            "Validation Loss: 1.5246, Validation Accuracy: 27.55%\n"
          ]
        },
        {
          "output_type": "stream",
          "name": "stderr",
          "text": [
            "Epoch 34: 100%|██████████| 17/17 [00:48<00:00,  2.84s/batch, accuracy=30, loss=1.61]\n"
          ]
        },
        {
          "output_type": "stream",
          "name": "stdout",
          "text": [
            "Epoch [34/40], Loss: 1.6060, Accuracy: 26.05%\n",
            "Validation Loss: 1.5121, Validation Accuracy: 27.55%\n"
          ]
        },
        {
          "output_type": "stream",
          "name": "stderr",
          "text": [
            "Epoch 35: 100%|██████████| 17/17 [00:48<00:00,  2.84s/batch, accuracy=30, loss=1.63]\n"
          ]
        },
        {
          "output_type": "stream",
          "name": "stdout",
          "text": [
            "Epoch [35/40], Loss: 1.6058, Accuracy: 27.22%\n",
            "Validation Loss: 1.5161, Validation Accuracy: 27.55%\n"
          ]
        },
        {
          "output_type": "stream",
          "name": "stderr",
          "text": [
            "Epoch 36: 100%|██████████| 17/17 [00:47<00:00,  2.82s/batch, accuracy=28.9, loss=1.55]\n"
          ]
        },
        {
          "output_type": "stream",
          "name": "stdout",
          "text": [
            "Epoch [36/40], Loss: 1.6054, Accuracy: 26.47%\n",
            "Validation Loss: 1.5199, Validation Accuracy: 27.55%\n"
          ]
        },
        {
          "output_type": "stream",
          "name": "stderr",
          "text": [
            "Epoch 37: 100%|██████████| 17/17 [00:48<00:00,  2.86s/batch, accuracy=33.3, loss=1.57]\n"
          ]
        },
        {
          "output_type": "stream",
          "name": "stdout",
          "text": [
            "Epoch [37/40], Loss: 1.6050, Accuracy: 26.71%\n",
            "Validation Loss: 1.5163, Validation Accuracy: 27.55%\n"
          ]
        },
        {
          "output_type": "stream",
          "name": "stderr",
          "text": [
            "Epoch 38: 100%|██████████| 17/17 [00:48<00:00,  2.87s/batch, accuracy=25.6, loss=1.56]\n"
          ]
        },
        {
          "output_type": "stream",
          "name": "stdout",
          "text": [
            "Epoch [38/40], Loss: 1.6038, Accuracy: 27.17%\n",
            "Validation Loss: 1.5217, Validation Accuracy: 27.55%\n"
          ]
        },
        {
          "output_type": "stream",
          "name": "stderr",
          "text": [
            "Epoch 39: 100%|██████████| 17/17 [00:48<00:00,  2.84s/batch, accuracy=28.9, loss=1.54]\n"
          ]
        },
        {
          "output_type": "stream",
          "name": "stdout",
          "text": [
            "Epoch [39/40], Loss: 1.6046, Accuracy: 26.94%\n",
            "Validation Loss: 1.5183, Validation Accuracy: 27.55%\n"
          ]
        },
        {
          "output_type": "stream",
          "name": "stderr",
          "text": [
            "Epoch 40: 100%|██████████| 17/17 [00:48<00:00,  2.88s/batch, accuracy=28.9, loss=1.52]\n"
          ]
        },
        {
          "output_type": "stream",
          "name": "stdout",
          "text": [
            "Epoch [40/40], Loss: 1.6049, Accuracy: 26.38%\n",
            "Validation Loss: 1.5132, Validation Accuracy: 27.55%\n",
            "Accuracy of the network on the test images: 27.106227106227106 %\n"
          ]
        },
        {
          "output_type": "display_data",
          "data": {
            "text/plain": [
              "VBox(children=(Label(value='0.001 MB of 0.001 MB uploaded\\r'), FloatProgress(value=1.0, max=1.0)))"
            ],
            "application/vnd.jupyter.widget-view+json": {
              "version_major": 2,
              "version_minor": 0,
              "model_id": "68c533dd5bda4711bcb6b4e57f7ca3fb"
            }
          },
          "metadata": {}
        },
        {
          "output_type": "display_data",
          "data": {
            "text/plain": [
              "<IPython.core.display.HTML object>"
            ],
            "text/html": [
              "<style>\n",
              "    table.wandb td:nth-child(1) { padding: 0 10px; text-align: left ; width: auto;} td:nth-child(2) {text-align: left ; width: 100%}\n",
              "    .wandb-row { display: flex; flex-direction: row; flex-wrap: wrap; justify-content: flex-start; width: 100% }\n",
              "    .wandb-col { display: flex; flex-direction: column; flex-basis: 100%; flex: 1; padding: 10px; }\n",
              "    </style>\n",
              "<div class=\"wandb-row\"><div class=\"wandb-col\"><h3>Run history:</h3><br/><table class=\"wandb\"><tr><td>train/epoch</td><td>▁▁▁▂▂▂▂▂▂▃▃▃▃▃▃▄▄▄▄▄▅▅▅▅▅▅▆▆▆▆▆▆▇▇▇▇▇███</td></tr><tr><td>train/example_ct</td><td>▁▁▁▁▂▂▂▂▂▃▃▃▃▃▄▄▄▄▄▄▅▅▅▅▅▅▆▆▆▆▆▇▇▇▇▇▇███</td></tr><tr><td>train/train_loss</td><td>█▂▁▂▂▁▂▂▁▁▂▂▁▁▁▁▁▂▁▁▁▂▁▁▁▂▂▁▁▂▁▁▁▁▁▂▁▁▁▁</td></tr><tr><td>val/val_accuracy</td><td>▅█▅▁██▁▁██████████████████▅█████████████</td></tr><tr><td>val/val_loss</td><td>▄▄▃▃▇▄▄▆▃█▁▃▃▄▂▃▃▂▄▃▄▃▃▃▃▃▂▃▃▃▃▃▄▃▃▃▃▃▃▃</td></tr></table><br/></div><div class=\"wandb-col\"><h3>Run summary:</h3><br/><table class=\"wandb\"><tr><td>test_accuracy</td><td>27.10623</td></tr><tr><td>train/epoch</td><td>40.0</td></tr><tr><td>train/example_ct</td><td>85520</td></tr><tr><td>train/train_loss</td><td>1.52267</td></tr><tr><td>val/val_accuracy</td><td>27.54717</td></tr><tr><td>val/val_loss</td><td>1.51321</td></tr></table><br/></div></div>"
            ]
          },
          "metadata": {}
        },
        {
          "output_type": "display_data",
          "data": {
            "text/plain": [
              "<IPython.core.display.HTML object>"
            ],
            "text/html": [
              " View run <strong style=\"color:#cdcd00\">fast-voice-21</strong> at: <a href='https://wandb.ai/jennisleepin/room-clasification/runs/mbfawr0r' target=\"_blank\">https://wandb.ai/jennisleepin/room-clasification/runs/mbfawr0r</a><br/> View project at: <a href='https://wandb.ai/jennisleepin/room-clasification' target=\"_blank\">https://wandb.ai/jennisleepin/room-clasification</a><br/>Synced 5 W&B file(s), 0 media file(s), 0 artifact file(s) and 0 other file(s)"
            ]
          },
          "metadata": {}
        },
        {
          "output_type": "display_data",
          "data": {
            "text/plain": [
              "<IPython.core.display.HTML object>"
            ],
            "text/html": [
              "Find logs at: <code>./wandb/run-20240426_001232-mbfawr0r/logs</code>"
            ]
          },
          "metadata": {}
        }
      ],
      "source": [
        "for _ in range(1):\n",
        "    # 🐝 initialize a wandb run\n",
        "    wandb.init(\n",
        "        project=\"room-clasification\",\n",
        "        config={\n",
        "            \"architecture\": \"VGG16\",\n",
        "            \"epochs\": 40,\n",
        "            \"batch_size\": 128,\n",
        "            \"lr\": 1e-3,\n",
        "            })\n",
        "\n",
        "    # Copy your config\n",
        "    config = wandb.config\n",
        "\n",
        "    train_loader = DataLoader(train_dataset, batch_size=config.batch_size, shuffle=True)\n",
        "    val_loader = DataLoader(val_dataset, batch_size=config.batch_size, shuffle=False)\n",
        "    test_loader = DataLoader(test_dataset, batch_size=config.batch_size, shuffle=False)\n",
        "\n",
        "    n_steps_per_epoch = math.ceil(len(train_dataset) / config.batch_size)\n",
        "\n",
        "    model = VGG16().to(device)\n",
        "\n",
        "    criterion = nn.CrossEntropyLoss()\n",
        "    optimizer = optim.Adam(model.parameters(), lr=config.lr)\n",
        "    train_loss, train_acc, val_loss, val_acc = [], [], [], []\n",
        "\n",
        "    example_ct = 0\n",
        "    step_ct = 0\n",
        "    for epoch in range(config.epochs):\n",
        "        with tqdm(train_loader, unit=\"batch\") as tepoch:\n",
        "            model.train()\n",
        "            running_loss = 0.0\n",
        "            correct_train = 0\n",
        "            total_train = 0\n",
        "\n",
        "            for step, (images, labels) in enumerate(tepoch):\n",
        "                tepoch.set_description(f\"Epoch {epoch+1}\")\n",
        "\n",
        "                images = images.to(device)\n",
        "                labels = labels.to(device)\n",
        "\n",
        "                # Forward pass\n",
        "                outputs = model(images)\n",
        "                loss = criterion(outputs, labels)\n",
        "                running_loss += loss.item()\n",
        "\n",
        "                # Backward and optimize\n",
        "                optimizer.zero_grad()\n",
        "                loss.backward()\n",
        "                optimizer.step()\n",
        "\n",
        "                # the class with the highest score is our prediction\n",
        "                _, predicted = torch.max(outputs.data, 1)\n",
        "                total = labels.size(0)\n",
        "                correct = (predicted == labels).sum().item()\n",
        "\n",
        "                correct_train += correct\n",
        "                total_train += total\n",
        "\n",
        "                tepoch.set_postfix(loss=loss.item(), accuracy=100 * correct / total)\n",
        "\n",
        "                example_ct += len(images)\n",
        "                metrics = {\n",
        "                    \"train/train_loss\": loss,\n",
        "                    \"train/epoch\": (step + 1 + (n_steps_per_epoch * epoch)) / n_steps_per_epoch,\n",
        "                    \"train/example_ct\": example_ct\n",
        "                    }\n",
        "\n",
        "                if step + 1 < n_steps_per_epoch:\n",
        "                    # 🐝 Log train metrics to wandb\n",
        "                    wandb.log(metrics)\n",
        "                step_ct += 1\n",
        "\n",
        "            avg_train_loss = running_loss / len(train_loader)\n",
        "            train_accuracy = 100 * correct_train / total_train\n",
        "            train_loss.append(avg_train_loss)\n",
        "            train_acc.append(train_accuracy)\n",
        "\n",
        "            print('Epoch [{}/{}], Loss: {:.4f}, Accuracy: {:.2f}%'\n",
        "                .format(epoch+1, config.epochs, avg_train_loss, train_accuracy))\n",
        "\n",
        "            # Validation\n",
        "            model.eval()  # Set the model to evaluation mode\n",
        "            running_val_loss = 0.0\n",
        "            correct_val = 0\n",
        "            total_val = 0\n",
        "\n",
        "            with torch.no_grad():\n",
        "                for images, labels in val_loader:\n",
        "                    images = images.to(device)\n",
        "                    labels = labels.to(device)\n",
        "                    outputs = model(images)\n",
        "                    loss = criterion(outputs, labels)\n",
        "                    running_val_loss += loss.item()\n",
        "\n",
        "                    _, predicted = torch.max(outputs.data, 1)\n",
        "                    total_val += labels.size(0)\n",
        "                    correct_val += (predicted == labels).sum().item()\n",
        "\n",
        "            avg_val_loss = running_val_loss / len(val_loader)\n",
        "            val_accuracy = 100 * correct_val / total_val\n",
        "            val_loss.append(avg_val_loss)\n",
        "            val_acc.append(val_accuracy)\n",
        "\n",
        "            val_metrics = {\n",
        "                \"val/val_loss\": avg_val_loss,\n",
        "                \"val/val_accuracy\": val_accuracy\n",
        "                }\n",
        "            wandb.log({**metrics, **val_metrics})\n",
        "\n",
        "            print('Validation Loss: {:.4f}, Validation Accuracy: {:.2f}%'\n",
        "                .format(avg_val_loss, val_accuracy))\n",
        "\n",
        "    with torch.no_grad():\n",
        "        correct = 0\n",
        "        total = 0\n",
        "        for images, labels in test_loader:\n",
        "            images = images.to(device)\n",
        "            labels = labels.to(device)\n",
        "            outputs = model(images)\n",
        "            _, predicted = torch.max(outputs.data, 1)\n",
        "            total += labels.size(0)\n",
        "            correct += (predicted == labels).sum().item()\n",
        "            del images, labels, outputs\n",
        "\n",
        "        test_acc = 100 * correct / total\n",
        "        wandb.summary['test_accuracy'] = test_acc\n",
        "        print('Accuracy of the network on the test images: {} %'.format(test_acc))\n",
        "\n",
        "    wandb.finish()"
      ]
    },
    {
      "cell_type": "code",
      "execution_count": 20,
      "metadata": {
        "colab": {
          "base_uri": "https://localhost:8080/",
          "height": 487
        },
        "id": "0g5LDbSTfUfw",
        "outputId": "bc7c836f-433c-4eab-ad2e-36c30ff61e1f"
      },
      "outputs": [
        {
          "output_type": "display_data",
          "data": {
            "text/plain": [
              "<Figure size 1200x500 with 2 Axes>"
            ],
            "image/png": "[encoded data removed]"
          },
          "metadata": {}
        }
      ],
      "source": [
        "plt.figure(figsize=(12, 5))\n",
        "\n",
        "plt.subplot(1, 2, 1)\n",
        "plt.plot(train_loss, label='Training Loss')\n",
        "plt.plot(val_loss, label='Validation Loss')\n",
        "plt.title('Training and Validation Loss')\n",
        "plt.xlabel('Epochs')\n",
        "plt.ylabel('Loss')\n",
        "plt.legend()\n",
        "\n",
        "plt.subplot(1, 2, 2)\n",
        "plt.plot(train_acc, label='Training Accuracy')\n",
        "plt.plot(val_acc, label='Validation Accuracy')\n",
        "plt.title('Training and Validation Accuracy')\n",
        "plt.xlabel('Epochs')\n",
        "plt.ylabel('Accuracy')\n",
        "plt.legend()\n",
        "\n",
        "plt.show()"
      ]
    },
    {
      "cell_type": "code",
      "execution_count": 20,
      "metadata": {
        "id": "GPyN3YLtfUfw"
      },
      "outputs": [],
      "source": []
    }
  ],
  "metadata": {
    "kernelspec": {
      "display_name": "Python 3",
      "name": "python3"
    },
    "language_info": {
      "codemirror_mode": {
        "name": "ipython",
        "version": 3
      },
      "file_extension": ".py",
      "mimetype": "text/x-python",
      "name": "python",
      "nbconvert_exporter": "python",
      "pygments_lexer": "ipython3",
      "version": "3.8.18"
    },
    "colab": {
      "provenance": [],
      "gpuType": "T4"
    },
    "accelerator": "GPU",
    "widgets": {
      "application/vnd.jupyter.widget-state+json": {
        "68c533dd5bda4711bcb6b4e57f7ca3fb": {
          "model_module": "@jupyter-widgets/controls",
          "model_name": "VBoxModel",
          "model_module_version": "1.5.0",
          "state": {
            "_dom_classes": [],
            "_model_module": "@jupyter-widgets/controls",
            "_model_module_version": "1.5.0",
            "_model_name": "VBoxModel",
            "_view_count": null,
            "_view_module": "@jupyter-widgets/controls",
            "_view_module_version": "1.5.0",
            "_view_name": "VBoxView",
            "box_style": "",
            "children": [
              "IPY_MODEL_388d1de6fcc942c4a3d70d8fb6bef973",
              "IPY_MODEL_43e95174b75b41619a4bb81d9b8519ab"
            ],
            "layout": "IPY_MODEL_60a82e058a0f4406808dc30ce0fa5e3e"
          }
        },
        "388d1de6fcc942c4a3d70d8fb6bef973": {
          "model_module": "@jupyter-widgets/controls",
          "model_name": "LabelModel",
          "model_module_version": "1.5.0",
          "state": {
            "_dom_classes": [],
            "_model_module": "@jupyter-widgets/controls",
            "_model_module_version": "1.5.0",
            "_model_name": "LabelModel",
            "_view_count": null,
            "_view_module": "@jupyter-widgets/controls",
            "_view_module_version": "1.5.0",
            "_view_name": "LabelView",
            "description": "",
            "description_tooltip": null,
            "layout": "IPY_MODEL_8fd22216b3844eb79d786222f8c788e5",
            "placeholder": "​",
            "style": "IPY_MODEL_4f1171e886994c3caf1d2b6dfb3b6cf2",
            "value": "0.021 MB of 0.021 MB uploaded\r"
          }
        },
        "43e95174b75b41619a4bb81d9b8519ab": {
          "model_module": "@jupyter-widgets/controls",
          "model_name": "FloatProgressModel",
          "model_module_version": "1.5.0",
          "state": {
            "_dom_classes": [],
            "_model_module": "@jupyter-widgets/controls",
            "_model_module_version": "1.5.0",
            "_model_name": "FloatProgressModel",
            "_view_count": null,
            "_view_module": "@jupyter-widgets/controls",
            "_view_module_version": "1.5.0",
            "_view_name": "ProgressView",
            "bar_style": "",
            "description": "",
            "description_tooltip": null,
            "layout": "IPY_MODEL_ec18735548f74c1bacb5d5aaed4b2ac5",
            "max": 1,
            "min": 0,
            "orientation": "horizontal",
            "style": "IPY_MODEL_d40a74e2d66049f7860eb5ab30dc5e03",
            "value": 1
          }
        },
        "60a82e058a0f4406808dc30ce0fa5e3e": {
          "model_module": "@jupyter-widgets/base",
          "model_name": "LayoutModel",
          "model_module_version": "1.2.0",
          "state": {
            "_model_module": "@jupyter-widgets/base",
            "_model_module_version": "1.2.0",
            "_model_name": "LayoutModel",
            "_view_count": null,
            "_view_module": "@jupyter-widgets/base",
            "_view_module_version": "1.2.0",
            "_view_name": "LayoutView",
            "align_content": null,
            "align_items": null,
            "align_self": null,
            "border": null,
            "bottom": null,
            "display": null,
            "flex": null,
            "flex_flow": null,
            "grid_area": null,
            "grid_auto_columns": null,
            "grid_auto_flow": null,
            "grid_auto_rows": null,
            "grid_column": null,
            "grid_gap": null,
            "grid_row": null,
            "grid_template_areas": null,
            "grid_template_columns": null,
            "grid_template_rows": null,
            "height": null,
            "justify_content": null,
            "justify_items": null,
            "left": null,
            "margin": null,
            "max_height": null,
            "max_width": null,
            "min_height": null,
            "min_width": null,
            "object_fit": null,
            "object_position": null,
            "order": null,
            "overflow": null,
            "overflow_x": null,
            "overflow_y": null,
            "padding": null,
            "right": null,
            "top": null,
            "visibility": null,
            "width": null
          }
        },
        "8fd22216b3844eb79d786222f8c788e5": {
          "model_module": "@jupyter-widgets/base",
          "model_name": "LayoutModel",
          "model_module_version": "1.2.0",
          "state": {
            "_model_module": "@jupyter-widgets/base",
            "_model_module_version": "1.2.0",
            "_model_name": "LayoutModel",
            "_view_count": null,
            "_view_module": "@jupyter-widgets/base",
            "_view_module_version": "1.2.0",
            "_view_name": "LayoutView",
            "align_content": null,
            "align_items": null,
            "align_self": null,
            "border": null,
            "bottom": null,
            "display": null,
            "flex": null,
            "flex_flow": null,
            "grid_area": null,
            "grid_auto_columns": null,
            "grid_auto_flow": null,
            "grid_auto_rows": null,
            "grid_column": null,
            "grid_gap": null,
            "grid_row": null,
            "grid_template_areas": null,
            "grid_template_columns": null,
            "grid_template_rows": null,
            "height": null,
            "justify_content": null,
            "justify_items": null,
            "left": null,
            "margin": null,
            "max_height": null,
            "max_width": null,
            "min_height": null,
            "min_width": null,
            "object_fit": null,
            "object_position": null,
            "order": null,
            "overflow": null,
            "overflow_x": null,
            "overflow_y": null,
            "padding": null,
            "right": null,
            "top": null,
            "visibility": null,
            "width": null
          }
        },
        "4f1171e886994c3caf1d2b6dfb3b6cf2": {
          "model_module": "@jupyter-widgets/controls",
          "model_name": "DescriptionStyleModel",
          "model_module_version": "1.5.0",
          "state": {
            "_model_module": "@jupyter-widgets/controls",
            "_model_module_version": "1.5.0",
            "_model_name": "DescriptionStyleModel",
            "_view_count": null,
            "_view_module": "@jupyter-widgets/base",
            "_view_module_version": "1.2.0",
            "_view_name": "StyleView",
            "description_width": ""
          }
        },
        "ec18735548f74c1bacb5d5aaed4b2ac5": {
          "model_module": "@jupyter-widgets/base",
          "model_name": "LayoutModel",
          "model_module_version": "1.2.0",
          "state": {
            "_model_module": "@jupyter-widgets/base",
            "_model_module_version": "1.2.0",
            "_model_name": "LayoutModel",
            "_view_count": null,
            "_view_module": "@jupyter-widgets/base",
            "_view_module_version": "1.2.0",
            "_view_name": "LayoutView",
            "align_content": null,
            "align_items": null,
            "align_self": null,
            "border": null,
            "bottom": null,
            "display": null,
            "flex": null,
            "flex_flow": null,
            "grid_area": null,
            "grid_auto_columns": null,
            "grid_auto_flow": null,
            "grid_auto_rows": null,
            "grid_column": null,
            "grid_gap": null,
            "grid_row": null,
            "grid_template_areas": null,
            "grid_template_columns": null,
            "grid_template_rows": null,
            "height": null,
            "justify_content": null,
            "justify_items": null,
            "left": null,
            "margin": null,
            "max_height": null,
            "max_width": null,
            "min_height": null,
            "min_width": null,
            "object_fit": null,
            "object_position": null,
            "order": null,
            "overflow": null,
            "overflow_x": null,
            "overflow_y": null,
            "padding": null,
            "right": null,
            "top": null,
            "visibility": null,
            "width": null
          }
        },
        "d40a74e2d66049f7860eb5ab30dc5e03": {
          "model_module": "@jupyter-widgets/controls",
          "model_name": "ProgressStyleModel",
          "model_module_version": "1.5.0",
          "state": {
            "_model_module": "@jupyter-widgets/controls",
            "_model_module_version": "1.5.0",
            "_model_name": "ProgressStyleModel",
            "_view_count": null,
            "_view_module": "@jupyter-widgets/base",
            "_view_module_version": "1.2.0",
            "_view_name": "StyleView",
            "bar_color": null,
            "description_width": ""
          }
        }
      }
    }
  },
  "nbformat": 4,
  "nbformat_minor": 0
}